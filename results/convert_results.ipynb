{
 "cells": [
  {
   "cell_type": "code",
   "execution_count": 1,
   "id": "e15f4069-46d6-4c8a-bde1-6675d75a77d9",
   "metadata": {},
   "outputs": [],
   "source": [
    "from os import listdir"
   ]
  },
  {
   "cell_type": "code",
   "execution_count": 2,
   "id": "b2d24400-72f2-40fb-ab49-4d41b1e076d6",
   "metadata": {},
   "outputs": [],
   "source": [
    "#dataset = 'IDS15K'\n",
    "dataset = 'DBP15K'"
   ]
  },
  {
   "cell_type": "code",
   "execution_count": 3,
   "id": "253d12c1-d409-46d3-89e5-a66a28275b27",
   "metadata": {},
   "outputs": [],
   "source": [
    "all_results = []"
   ]
  },
  {
   "cell_type": "code",
   "execution_count": 4,
   "id": "31af40eb-df32-4ca6-b2e7-eead970f36f8",
   "metadata": {},
   "outputs": [],
   "source": [
    "for folder_name in listdir(dataset):\n",
    "    for file_name in listdir(dataset + '/' + folder_name):\n",
    "        file_name_list = file_name.split('_')\n",
    "        if len(file_name_list) == 6:\n",
    "            method, sampling, training_size, align_error, source_error, target_error = file_name_list\n",
    "        else:\n",
    "            method, training_size, align_error, source_error, target_error = file_name_list\n",
    "            sampling = 'random'\n",
    "        target_error = target_error[:target_error.find('.')]\n",
    "        training_size = str(int(training_size)*10)\n",
    "        results_file = open(dataset + '/' + folder_name + '/' + file_name, 'r+')\n",
    "        file_lines = results_file.readlines()\n",
    "        # sometimes the embeddings fail to save, read a slightly different line in the output\n",
    "        if 'output' in file_lines[-2]:\n",
    "            final_result = file_lines[-9]\n",
    "        else:\n",
    "            final_result = file_lines[-11]\n",
    "        results_file.close()\n",
    "    \n",
    "        hits = final_result[final_result.find('= [')+2:final_result.find(']%')+1]\n",
    "        mr = final_result[final_result.find('mr = ')+5:final_result.find(', mrr')]\n",
    "        mrr = final_result[final_result.find('mrr = ')+6:final_result.find(', time')]\n",
    "        \n",
    "        all_results.append('\\t'.join([method + '_' + sampling, training_size, align_error, source_error, target_error, hits, mr, mrr]))"
   ]
  },
  {
   "cell_type": "code",
   "execution_count": 5,
   "id": "f44026e8-33c8-41c4-8145-895b40f70c7f",
   "metadata": {},
   "outputs": [],
   "source": [
    "with open(dataset + '_results.txt', 'w') as f:\n",
    "    for result in all_results:\n",
    "        f.write(f\"{result}\\n\")"
   ]
  },
  {
   "cell_type": "code",
   "execution_count": null,
   "id": "5d4dec33-edbc-4f76-8d06-6b1f40dc3a13",
   "metadata": {},
   "outputs": [],
   "source": []
  }
 ],
 "metadata": {
  "kernelspec": {
   "display_name": "Python 3 (ipykernel)",
   "language": "python",
   "name": "python3"
  },
  "language_info": {
   "codemirror_mode": {
    "name": "ipython",
    "version": 3
   },
   "file_extension": ".py",
   "mimetype": "text/x-python",
   "name": "python",
   "nbconvert_exporter": "python",
   "pygments_lexer": "ipython3",
   "version": "3.12.2"
  }
 },
 "nbformat": 4,
 "nbformat_minor": 5
}
